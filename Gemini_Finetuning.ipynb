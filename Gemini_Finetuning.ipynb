{
 "cells": [
  {
   "cell_type": "code",
   "execution_count": null,
   "metadata": {},
   "outputs": [],
   "source": [
    "from IPython.display import display, Markdown"
   ]
  },
  {
   "cell_type": "code",
   "execution_count": null,
   "metadata": {},
   "outputs": [],
   "source": [
    "import PyPDF2\n",
    "def pdf_to_txt(pdf_path, txt_path):\n",
    "    try:\n",
    "        with open(pdf_path, \"rb\") as pdf_file:\n",
    "            reader = PyPDF2.PdfReader(pdf_file)\n",
    "            with open(txt_path, \"w\", encoding=\"utf-8\") as txt_file:\n",
    "                for page in reader.pages:\n",
    "                    text = page.extract_text()\n",
    "                    if text:\n",
    "                        txt_file.write(text + \"\\n\")\n",
    "        print(f\"Text successfully extracted to {txt_path}\")\n",
    "    except Exception as e:\n",
    "        print(f\"Error: {e}\")\n",
    "pdf_to_txt(\"Your File Name\",\"output.txt\")"
   ]
  },
  {
   "cell_type": "code",
   "execution_count": null,
   "metadata": {},
   "outputs": [],
   "source": [
    "from dotenv import load_dotenv\n",
    "import os\n",
    "import google.generativeai as genai\n",
    "\n",
    "# Load environment variables from a .env file\n",
    "load_dotenv()\n",
    "\n",
    "def load_context_from_file(file_path):\n",
    "    \"\"\"Load context from a text file with utf-8 encoding.\"\"\"\n",
    "    with open(file_path, 'r', encoding='utf-8') as file:\n",
    "        context = file.read()\n",
    "    return context\n",
    "\n",
    "\n",
    "def get_google_ai_response(prompt):\n",
    "    \"\"\"Get a response from Google Generative AI.\"\"\"\n",
    "    \n",
    "    # Load the context from the text file\n",
    "    context = load_context_from_file('output.txt')\n",
    "    \n",
    "    # Get the API key from environment variables\n",
    "    api_key = os.getenv(\"GOOGLE_API_KEY\")\n",
    "\n",
    "    # Configure the generative AI with the API key\n",
    "    genai.configure(api_key=api_key)\n",
    "\n",
    "    # Initialize the generative model\n",
    "    model = genai.GenerativeModel('gemini-2.0-flash')\n",
    "\n",
    "    chat = model.start_chat(history=[])\n",
    "\n",
    "    # Send context to the model\n",
    "    chat.send_message(context)\n",
    "\n",
    "    # Send the user's prompt and get a response\n",
    "    response = chat.send_message(prompt, stream=False)\n",
    "\n",
    "    return response.text\n",
    "\n",
    "# Prompt the user for input\n",
    "user_input = input(\"Enter your question:\")\n",
    "\n",
    "# Get the response from the model\n",
    "response = get_google_ai_response(user_input)"
   ]
  },
  {
   "cell_type": "code",
   "execution_count": null,
   "metadata": {},
   "outputs": [],
   "source": [
    "display(Markdown(response))"
   ]
  }
 ],
 "metadata": {
  "kernelspec": {
   "display_name": "Python 3",
   "language": "python",
   "name": "python3"
  },
  "language_info": {
   "codemirror_mode": {
    "name": "ipython",
    "version": 3
   },
   "file_extension": ".py",
   "mimetype": "text/x-python",
   "name": "python",
   "nbconvert_exporter": "python",
   "pygments_lexer": "ipython3",
   "version": "3.12.8"
  }
 },
 "nbformat": 4,
 "nbformat_minor": 2
}
